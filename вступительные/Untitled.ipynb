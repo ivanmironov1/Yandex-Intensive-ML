{
 "cells": [
  {
   "cell_type": "code",
   "execution_count": 1,
   "id": "b7a8cf65",
   "metadata": {},
   "outputs": [],
   "source": [
    "import pandas as pd\n",
    "import numpy as np"
   ]
  },
  {
   "cell_type": "code",
   "execution_count": 2,
   "id": "47979199",
   "metadata": {},
   "outputs": [],
   "source": [
    "df = pd.read_csv(\"datasets_eat_places.csv\")"
   ]
  },
  {
   "cell_type": "markdown",
   "id": "9d12d4d5",
   "metadata": {},
   "source": [
    "# Знакомство с датасетом"
   ]
  },
  {
   "cell_type": "markdown",
   "id": "a2b10073",
   "metadata": {},
   "source": [
    "org_id - идентификатор заведения\n",
    "\n",
    "city - город, в котором находится заведение (msk или spb)\n",
    "\n",
    "average_bill - средний чек в заведении\n",
    "\n",
    "rating - рейтинг заведения\n",
    "\n",
    "rubric - тип заведения\n",
    "\n",
    "Остальные столбцы - человекочитаемые бинарные фичи заведений"
   ]
  },
  {
   "cell_type": "markdown",
   "id": "1fe53230",
   "metadata": {},
   "source": [
    "Рандомные строки датасета:"
   ]
  },
  {
   "cell_type": "code",
   "execution_count": 3,
   "id": "c738899d",
   "metadata": {},
   "outputs": [
    {
     "data": {
      "text/html": [
       "<div>\n",
       "<style scoped>\n",
       "    .dataframe tbody tr th:only-of-type {\n",
       "        vertical-align: middle;\n",
       "    }\n",
       "\n",
       "    .dataframe tbody tr th {\n",
       "        vertical-align: top;\n",
       "    }\n",
       "\n",
       "    .dataframe thead th {\n",
       "        text-align: right;\n",
       "    }\n",
       "</style>\n",
       "<table border=\"1\" class=\"dataframe\">\n",
       "  <thead>\n",
       "    <tr style=\"text-align: right;\">\n",
       "      <th></th>\n",
       "      <th>Unnamed: 0</th>\n",
       "      <th>org_id</th>\n",
       "      <th>city</th>\n",
       "      <th>average_bill</th>\n",
       "      <th>rating</th>\n",
       "      <th>rubric</th>\n",
       "      <th>coffee_to_go</th>\n",
       "      <th>food_delivery</th>\n",
       "      <th>breakfast</th>\n",
       "      <th>summer_terrace</th>\n",
       "      <th>...</th>\n",
       "      <th>business_lunch</th>\n",
       "      <th>payment_by_credit_card</th>\n",
       "      <th>car_park</th>\n",
       "      <th>gift_certificate</th>\n",
       "      <th>karaoke</th>\n",
       "      <th>free_delivery</th>\n",
       "      <th>music</th>\n",
       "      <th>pets</th>\n",
       "      <th>air_conditioning</th>\n",
       "      <th>view_on_ostankino_tower</th>\n",
       "    </tr>\n",
       "  </thead>\n",
       "  <tbody>\n",
       "    <tr>\n",
       "      <th>12637</th>\n",
       "      <td>19433</td>\n",
       "      <td>1959759105123419751</td>\n",
       "      <td>msk</td>\n",
       "      <td>NaN</td>\n",
       "      <td>3.750000</td>\n",
       "      <td>Быстрое питание</td>\n",
       "      <td>0</td>\n",
       "      <td>0</td>\n",
       "      <td>0</td>\n",
       "      <td>0</td>\n",
       "      <td>...</td>\n",
       "      <td>0</td>\n",
       "      <td>0</td>\n",
       "      <td>0</td>\n",
       "      <td>0</td>\n",
       "      <td>0</td>\n",
       "      <td>0</td>\n",
       "      <td>0</td>\n",
       "      <td>0</td>\n",
       "      <td>0</td>\n",
       "      <td>1</td>\n",
       "    </tr>\n",
       "    <tr>\n",
       "      <th>10786</th>\n",
       "      <td>16257</td>\n",
       "      <td>3069795362143174800</td>\n",
       "      <td>msk</td>\n",
       "      <td>NaN</td>\n",
       "      <td>NaN</td>\n",
       "      <td>Ресторан</td>\n",
       "      <td>0</td>\n",
       "      <td>0</td>\n",
       "      <td>0</td>\n",
       "      <td>0</td>\n",
       "      <td>...</td>\n",
       "      <td>0</td>\n",
       "      <td>0</td>\n",
       "      <td>0</td>\n",
       "      <td>0</td>\n",
       "      <td>0</td>\n",
       "      <td>0</td>\n",
       "      <td>0</td>\n",
       "      <td>0</td>\n",
       "      <td>0</td>\n",
       "      <td>0</td>\n",
       "    </tr>\n",
       "    <tr>\n",
       "      <th>1096</th>\n",
       "      <td>2128</td>\n",
       "      <td>12029360603750229027</td>\n",
       "      <td>msk</td>\n",
       "      <td>NaN</td>\n",
       "      <td>NaN</td>\n",
       "      <td>Ресторан</td>\n",
       "      <td>1</td>\n",
       "      <td>1</td>\n",
       "      <td>1</td>\n",
       "      <td>1</td>\n",
       "      <td>...</td>\n",
       "      <td>1</td>\n",
       "      <td>1</td>\n",
       "      <td>0</td>\n",
       "      <td>0</td>\n",
       "      <td>1</td>\n",
       "      <td>0</td>\n",
       "      <td>0</td>\n",
       "      <td>0</td>\n",
       "      <td>0</td>\n",
       "      <td>1</td>\n",
       "    </tr>\n",
       "    <tr>\n",
       "      <th>18340</th>\n",
       "      <td>27095</td>\n",
       "      <td>6534417807710254400</td>\n",
       "      <td>spb</td>\n",
       "      <td>500.0</td>\n",
       "      <td>3.750000</td>\n",
       "      <td>Булочная, пекарня</td>\n",
       "      <td>1</td>\n",
       "      <td>0</td>\n",
       "      <td>1</td>\n",
       "      <td>1</td>\n",
       "      <td>...</td>\n",
       "      <td>1</td>\n",
       "      <td>1</td>\n",
       "      <td>0</td>\n",
       "      <td>1</td>\n",
       "      <td>0</td>\n",
       "      <td>0</td>\n",
       "      <td>0</td>\n",
       "      <td>0</td>\n",
       "      <td>0</td>\n",
       "      <td>0</td>\n",
       "    </tr>\n",
       "    <tr>\n",
       "      <th>9195</th>\n",
       "      <td>10618</td>\n",
       "      <td>16038508537077732023</td>\n",
       "      <td>msk</td>\n",
       "      <td>1000.0</td>\n",
       "      <td>4.517241</td>\n",
       "      <td>Бар, паб</td>\n",
       "      <td>1</td>\n",
       "      <td>1</td>\n",
       "      <td>1</td>\n",
       "      <td>1</td>\n",
       "      <td>...</td>\n",
       "      <td>1</td>\n",
       "      <td>1</td>\n",
       "      <td>0</td>\n",
       "      <td>1</td>\n",
       "      <td>1</td>\n",
       "      <td>0</td>\n",
       "      <td>0</td>\n",
       "      <td>0</td>\n",
       "      <td>0</td>\n",
       "      <td>0</td>\n",
       "    </tr>\n",
       "  </tbody>\n",
       "</table>\n",
       "<p>5 rows × 21 columns</p>\n",
       "</div>"
      ],
      "text/plain": [
       "       Unnamed: 0                org_id city  average_bill    rating  \\\n",
       "12637       19433   1959759105123419751  msk           NaN  3.750000   \n",
       "10786       16257   3069795362143174800  msk           NaN       NaN   \n",
       "1096         2128  12029360603750229027  msk           NaN       NaN   \n",
       "18340       27095   6534417807710254400  spb         500.0  3.750000   \n",
       "9195        10618  16038508537077732023  msk        1000.0  4.517241   \n",
       "\n",
       "                  rubric  coffee_to_go  food_delivery  breakfast  \\\n",
       "12637    Быстрое питание             0              0          0   \n",
       "10786           Ресторан             0              0          0   \n",
       "1096            Ресторан             1              1          1   \n",
       "18340  Булочная, пекарня             1              0          1   \n",
       "9195            Бар, паб             1              1          1   \n",
       "\n",
       "       summer_terrace  ...  business_lunch  payment_by_credit_card  car_park  \\\n",
       "12637               0  ...               0                       0         0   \n",
       "10786               0  ...               0                       0         0   \n",
       "1096                1  ...               1                       1         0   \n",
       "18340               1  ...               1                       1         0   \n",
       "9195                1  ...               1                       1         0   \n",
       "\n",
       "       gift_certificate  karaoke  free_delivery  music  pets  \\\n",
       "12637                 0        0              0      0     0   \n",
       "10786                 0        0              0      0     0   \n",
       "1096                  0        1              0      0     0   \n",
       "18340                 1        0              0      0     0   \n",
       "9195                  1        1              0      0     0   \n",
       "\n",
       "       air_conditioning  view_on_ostankino_tower  \n",
       "12637                 0                        1  \n",
       "10786                 0                        0  \n",
       "1096                  0                        1  \n",
       "18340                 0                        0  \n",
       "9195                  0                        0  \n",
       "\n",
       "[5 rows x 21 columns]"
      ]
     },
     "execution_count": 3,
     "metadata": {},
     "output_type": "execute_result"
    }
   ],
   "source": [
    "df.sample(5)"
   ]
  },
  {
   "cell_type": "markdown",
   "id": "31eded7e",
   "metadata": {},
   "source": [
    "# Работа с пропущенными значениями"
   ]
  },
  {
   "cell_type": "markdown",
   "id": "7db19ca2",
   "metadata": {},
   "source": [
    "метод info(), чтобы увидеть число пропущенных значений"
   ]
  },
  {
   "cell_type": "code",
   "execution_count": 4,
   "id": "e435b177",
   "metadata": {},
   "outputs": [
    {
     "name": "stdout",
     "output_type": "stream",
     "text": [
      "<class 'pandas.core.frame.DataFrame'>\n",
      "RangeIndex: 43195 entries, 0 to 43194\n",
      "Data columns (total 21 columns):\n",
      " #   Column                   Non-Null Count  Dtype  \n",
      "---  ------                   --------------  -----  \n",
      " 0   Unnamed: 0               43195 non-null  int64  \n",
      " 1   org_id                   43195 non-null  uint64 \n",
      " 2   city                     43195 non-null  object \n",
      " 3   average_bill             17820 non-null  float64\n",
      " 4   rating                   36438 non-null  float64\n",
      " 5   rubric                   43195 non-null  object \n",
      " 6   coffee_to_go             43195 non-null  int64  \n",
      " 7   food_delivery            43195 non-null  int64  \n",
      " 8   breakfast                43195 non-null  int64  \n",
      " 9   summer_terrace           43195 non-null  int64  \n",
      " 10  wi_fi                    43195 non-null  int64  \n",
      " 11  business_lunch           43195 non-null  int64  \n",
      " 12  payment_by_credit_card   43195 non-null  int64  \n",
      " 13  car_park                 43195 non-null  int64  \n",
      " 14  gift_certificate         43195 non-null  int64  \n",
      " 15  karaoke                  43195 non-null  int64  \n",
      " 16  free_delivery            43195 non-null  int64  \n",
      " 17  music                    43195 non-null  int64  \n",
      " 18  pets                     43195 non-null  int64  \n",
      " 19  air_conditioning         43195 non-null  int64  \n",
      " 20  view_on_ostankino_tower  43195 non-null  int64  \n",
      "dtypes: float64(2), int64(16), object(2), uint64(1)\n",
      "memory usage: 6.9+ MB\n"
     ]
    }
   ],
   "source": [
    "df.info()"
   ]
  },
  {
   "cell_type": "markdown",
   "id": "fd15aadd",
   "metadata": {},
   "source": [
    "количество пропущенных значений"
   ]
  },
  {
   "cell_type": "code",
   "execution_count": 5,
   "id": "496362b5",
   "metadata": {},
   "outputs": [
    {
     "data": {
      "text/plain": [
       "Unnamed: 0                     0\n",
       "org_id                         0\n",
       "city                           0\n",
       "average_bill               25375\n",
       "rating                      6757\n",
       "rubric                         0\n",
       "coffee_to_go                   0\n",
       "food_delivery                  0\n",
       "breakfast                      0\n",
       "summer_terrace                 0\n",
       "wi_fi                          0\n",
       "business_lunch                 0\n",
       "payment_by_credit_card         0\n",
       "car_park                       0\n",
       "gift_certificate               0\n",
       "karaoke                        0\n",
       "free_delivery                  0\n",
       "music                          0\n",
       "pets                           0\n",
       "air_conditioning               0\n",
       "view_on_ostankino_tower        0\n",
       "dtype: int64"
      ]
     },
     "execution_count": 5,
     "metadata": {},
     "output_type": "execute_result"
    }
   ],
   "source": [
    "df.isna().sum() "
   ]
  },
  {
   "cell_type": "markdown",
   "id": "6c46389f",
   "metadata": {},
   "source": [
    "Очистка датасета от всех заведений, у которых средний чек неизвестен или превышает 2500"
   ]
  },
  {
   "cell_type": "code",
   "execution_count": 6,
   "id": "05ada243",
   "metadata": {},
   "outputs": [],
   "source": [
    "df_query_bill = df[(df['average_bill'].isna() == False) & (df['average_bill'] <= 2500)]"
   ]
  },
  {
   "cell_type": "markdown",
   "id": "801a7972",
   "metadata": {},
   "source": [
    "проверка:"
   ]
  },
  {
   "cell_type": "code",
   "execution_count": 7,
   "id": "66790038",
   "metadata": {},
   "outputs": [
    {
     "name": "stdout",
     "output_type": "stream",
     "text": [
      "Количество пропусков фичи average_bill: 0\n",
      "Максимальное значение фичи average_bill: 2500.0\n"
     ]
    }
   ],
   "source": [
    "average_bill_sum_na = df_query_bill['average_bill'].isna().sum()\n",
    "average_bill_max = df_query_bill['average_bill'].max()\n",
    "print(f'Количество пропусков фичи average_bill: {average_bill_sum_na}\\nМаксимальное значение фичи average_bill: {average_bill_max}')"
   ]
  },
  {
   "cell_type": "markdown",
   "id": "7ab13f34",
   "metadata": {},
   "source": [
    "Заполнение оставшихся пропусков"
   ]
  },
  {
   "cell_type": "code",
   "execution_count": 8,
   "id": "c3d2b20f",
   "metadata": {},
   "outputs": [],
   "source": [
    "mean_rating = df['rating'].mean()\n",
    "df_query_bill = df_query_bill.fillna({'rating': mean_rating})"
   ]
  },
  {
   "cell_type": "code",
   "execution_count": 9,
   "id": "0a9ba381",
   "metadata": {},
   "outputs": [],
   "source": [
    "df = df_query_bill.copy()"
   ]
  },
  {
   "cell_type": "markdown",
   "id": "2d5b7286",
   "metadata": {},
   "source": [
    "# Анализ датасета"
   ]
  },
  {
   "cell_type": "markdown",
   "id": "9430fb8b",
   "metadata": {},
   "source": [
    "Каких заведений больше - из Москвы или Санкт-Петербурга?"
   ]
  },
  {
   "cell_type": "code",
   "execution_count": 10,
   "id": "a8c1f973",
   "metadata": {},
   "outputs": [
    {
     "data": {
      "text/html": [
       "<div>\n",
       "<style scoped>\n",
       "    .dataframe tbody tr th:only-of-type {\n",
       "        vertical-align: middle;\n",
       "    }\n",
       "\n",
       "    .dataframe tbody tr th {\n",
       "        vertical-align: top;\n",
       "    }\n",
       "\n",
       "    .dataframe thead th {\n",
       "        text-align: right;\n",
       "    }\n",
       "</style>\n",
       "<table border=\"1\" class=\"dataframe\">\n",
       "  <thead>\n",
       "    <tr style=\"text-align: right;\">\n",
       "      <th></th>\n",
       "      <th>amount</th>\n",
       "    </tr>\n",
       "    <tr>\n",
       "      <th>city</th>\n",
       "      <th></th>\n",
       "    </tr>\n",
       "  </thead>\n",
       "  <tbody>\n",
       "    <tr>\n",
       "      <th>msk</th>\n",
       "      <td>11075</td>\n",
       "    </tr>\n",
       "    <tr>\n",
       "      <th>spb</th>\n",
       "      <td>6262</td>\n",
       "    </tr>\n",
       "  </tbody>\n",
       "</table>\n",
       "</div>"
      ],
      "text/plain": [
       "      amount\n",
       "city        \n",
       "msk    11075\n",
       "spb     6262"
      ]
     },
     "execution_count": 10,
     "metadata": {},
     "output_type": "execute_result"
    }
   ],
   "source": [
    "city_amount = df.groupby('city')['org_id'].count().to_frame().rename(columns={'org_id': 'amount'})\n",
    "city_amount"
   ]
  },
  {
   "cell_type": "code",
   "execution_count": 11,
   "id": "f0492b54",
   "metadata": {},
   "outputs": [
    {
     "name": "stdout",
     "output_type": "stream",
     "text": [
      "Заведений в Москве больше в 1.769 раз\n"
     ]
    }
   ],
   "source": [
    "msk_spb = city_amount.loc['msk', 'amount'] / city_amount.loc['spb', 'amount']\n",
    "print(f'Заведений в Москве больше в {round(msk_spb, 3)} раз')"
   ]
  },
  {
   "cell_type": "markdown",
   "id": "19df5102",
   "metadata": {},
   "source": [
    "Какие типы заведений есть в датасете?"
   ]
  },
  {
   "cell_type": "code",
   "execution_count": 12,
   "id": "20aa00af",
   "metadata": {},
   "outputs": [
    {
     "name": "stdout",
     "output_type": "stream",
     "text": [
      "Количество типов заведений: 14\n"
     ]
    }
   ],
   "source": [
    "print(f\"Количество типов заведений: {df['rubric'].nunique()}\")"
   ]
  },
  {
   "cell_type": "code",
   "execution_count": 13,
   "id": "783cf55b",
   "metadata": {},
   "outputs": [
    {
     "data": {
      "text/plain": [
       "array(['Быстрое питание', 'Кофейня', 'Столовая', 'Бар, паб',\n",
       "       'Булочная, пекарня', 'Ресторан', 'Пиццерия', 'Кафе', 'Суши-бар',\n",
       "       'Кондитерская', 'Кофе с собой', 'Кальян-бар',\n",
       "       'Бар безалкогольных напитков', 'Спортбар'], dtype=object)"
      ]
     },
     "execution_count": 13,
     "metadata": {},
     "output_type": "execute_result"
    }
   ],
   "source": [
    "df['rubric'].unique()"
   ]
  },
  {
   "cell_type": "markdown",
   "id": "a8f948b4",
   "metadata": {},
   "source": [
    "Сколько в датасете суммарно ресторанов и пабов?"
   ]
  },
  {
   "cell_type": "code",
   "execution_count": 14,
   "id": "38ca46f9",
   "metadata": {},
   "outputs": [
    {
     "name": "stdout",
     "output_type": "stream",
     "text": [
      "В датасете суммарно ресторанов и пабов: 5530\n"
     ]
    }
   ],
   "source": [
    "amount = len(df.query(\"(rubric == 'Ресторан') | (rubric == 'Бар, паб')\"))\n",
    "print(f'В датасете суммарно ресторанов и пабов: {amount}')"
   ]
  },
  {
   "cell_type": "markdown",
   "id": "6ea430ec",
   "metadata": {},
   "source": [
    "Какой у них средний чек?"
   ]
  },
  {
   "cell_type": "code",
   "execution_count": 15,
   "id": "e84fff83",
   "metadata": {},
   "outputs": [
    {
     "name": "stdout",
     "output_type": "stream",
     "text": [
      "средний чек: 1099.096\n"
     ]
    }
   ],
   "source": [
    "average_bill = df.query(\"(rubric == 'Ресторан') | (rubric == 'Бар, паб')\")['average_bill'].mean()\n",
    "print(f'средний чек: {round(average_bill, 3)}')"
   ]
  },
  {
   "cell_type": "markdown",
   "id": "54c153b0",
   "metadata": {},
   "source": [
    "Какая доля заведений “Кофе с собой” действительно имеет фичу кофе на вынос?"
   ]
  },
  {
   "cell_type": "code",
   "execution_count": 16,
   "id": "933f18f7",
   "metadata": {},
   "outputs": [
    {
     "name": "stdout",
     "output_type": "stream",
     "text": [
      "Доля заведений “Кофе с собой”, которые действительно имеет фичу кофе на вынос: 59.0%\n"
     ]
    }
   ],
   "source": [
    "coffee_proportion = len(df.query(\"(rubric == 'Кофе с собой') & (coffee_to_go == 1)\")) / len(df.query(\"rubric == 'Кофе с собой'\"))\n",
    "print(f'Доля заведений “Кофе с собой”, которые действительно имеет фичу кофе на вынос: {round(coffee_proportion, 3)*100}%')"
   ]
  },
  {
   "cell_type": "markdown",
   "id": "18a5d630",
   "metadata": {},
   "source": [
    "Найдите разницу между средним чеком всех кафе в Москве и Санкт-Петербурге"
   ]
  },
  {
   "cell_type": "code",
   "execution_count": 17,
   "id": "3f826c33",
   "metadata": {},
   "outputs": [
    {
     "data": {
      "text/html": [
       "<div>\n",
       "<style scoped>\n",
       "    .dataframe tbody tr th:only-of-type {\n",
       "        vertical-align: middle;\n",
       "    }\n",
       "\n",
       "    .dataframe tbody tr th {\n",
       "        vertical-align: top;\n",
       "    }\n",
       "\n",
       "    .dataframe thead th {\n",
       "        text-align: right;\n",
       "    }\n",
       "</style>\n",
       "<table border=\"1\" class=\"dataframe\">\n",
       "  <thead>\n",
       "    <tr style=\"text-align: right;\">\n",
       "      <th></th>\n",
       "      <th>average_bill</th>\n",
       "    </tr>\n",
       "    <tr>\n",
       "      <th>city</th>\n",
       "      <th></th>\n",
       "    </tr>\n",
       "  </thead>\n",
       "  <tbody>\n",
       "    <tr>\n",
       "      <th>msk</th>\n",
       "      <td>784.288939</td>\n",
       "    </tr>\n",
       "    <tr>\n",
       "      <th>spb</th>\n",
       "      <td>689.556052</td>\n",
       "    </tr>\n",
       "  </tbody>\n",
       "</table>\n",
       "</div>"
      ],
      "text/plain": [
       "      average_bill\n",
       "city              \n",
       "msk     784.288939\n",
       "spb     689.556052"
      ]
     },
     "execution_count": 17,
     "metadata": {},
     "output_type": "execute_result"
    }
   ],
   "source": [
    "average_bill_by_city = df.groupby('city')['average_bill'].mean().to_frame()\n",
    "average_bill_by_city"
   ]
  },
  {
   "cell_type": "code",
   "execution_count": 18,
   "id": "454760b9",
   "metadata": {},
   "outputs": [
    {
     "name": "stdout",
     "output_type": "stream",
     "text": [
      "Средний чек в Москве больше среднего чека в Питере на 94.73 рублей\n"
     ]
    }
   ],
   "source": [
    "difference = average_bill_by_city.loc['msk', 'average_bill'] - average_bill_by_city.loc['spb', 'average_bill']\n",
    "print(f'Средний чек в Москве больше среднего чека в Питере на {round(difference, 2)} рублей')"
   ]
  },
  {
   "cell_type": "markdown",
   "id": "689b105f",
   "metadata": {},
   "source": [
    "# Личные наблюдения"
   ]
  },
  {
   "cell_type": "code",
   "execution_count": 19,
   "id": "70724f2e",
   "metadata": {},
   "outputs": [
    {
     "data": {
      "text/html": [
       "<div>\n",
       "<style scoped>\n",
       "    .dataframe tbody tr th:only-of-type {\n",
       "        vertical-align: middle;\n",
       "    }\n",
       "\n",
       "    .dataframe tbody tr th {\n",
       "        vertical-align: top;\n",
       "    }\n",
       "\n",
       "    .dataframe thead th {\n",
       "        text-align: right;\n",
       "    }\n",
       "</style>\n",
       "<table border=\"1\" class=\"dataframe\">\n",
       "  <thead>\n",
       "    <tr style=\"text-align: right;\">\n",
       "      <th></th>\n",
       "      <th>Unnamed: 0</th>\n",
       "      <th>org_id</th>\n",
       "      <th>average_bill</th>\n",
       "      <th>rating</th>\n",
       "      <th>coffee_to_go</th>\n",
       "      <th>food_delivery</th>\n",
       "      <th>breakfast</th>\n",
       "      <th>summer_terrace</th>\n",
       "      <th>wi_fi</th>\n",
       "      <th>business_lunch</th>\n",
       "      <th>payment_by_credit_card</th>\n",
       "      <th>car_park</th>\n",
       "      <th>gift_certificate</th>\n",
       "      <th>karaoke</th>\n",
       "      <th>free_delivery</th>\n",
       "      <th>music</th>\n",
       "      <th>pets</th>\n",
       "      <th>air_conditioning</th>\n",
       "      <th>view_on_ostankino_tower</th>\n",
       "    </tr>\n",
       "  </thead>\n",
       "  <tbody>\n",
       "    <tr>\n",
       "      <th>count</th>\n",
       "      <td>17337.000000</td>\n",
       "      <td>1.733700e+04</td>\n",
       "      <td>17337.000000</td>\n",
       "      <td>17337.000000</td>\n",
       "      <td>17337.000000</td>\n",
       "      <td>17337.000000</td>\n",
       "      <td>17337.000000</td>\n",
       "      <td>17337.000000</td>\n",
       "      <td>17337.000000</td>\n",
       "      <td>17337.000000</td>\n",
       "      <td>17337.000000</td>\n",
       "      <td>17337.000000</td>\n",
       "      <td>17337.000000</td>\n",
       "      <td>17337.000000</td>\n",
       "      <td>17337.000000</td>\n",
       "      <td>17337.000000</td>\n",
       "      <td>17337.000000</td>\n",
       "      <td>17337.000000</td>\n",
       "      <td>17337.000000</td>\n",
       "    </tr>\n",
       "    <tr>\n",
       "      <th>mean</th>\n",
       "      <td>43530.963662</td>\n",
       "      <td>9.209979e+18</td>\n",
       "      <td>750.072100</td>\n",
       "      <td>4.140882</td>\n",
       "      <td>0.751745</td>\n",
       "      <td>0.820788</td>\n",
       "      <td>0.599758</td>\n",
       "      <td>0.708312</td>\n",
       "      <td>0.879506</td>\n",
       "      <td>0.721578</td>\n",
       "      <td>0.866182</td>\n",
       "      <td>0.022668</td>\n",
       "      <td>0.099787</td>\n",
       "      <td>0.336044</td>\n",
       "      <td>0.050182</td>\n",
       "      <td>0.038992</td>\n",
       "      <td>0.000750</td>\n",
       "      <td>0.000923</td>\n",
       "      <td>0.211109</td>\n",
       "    </tr>\n",
       "    <tr>\n",
       "      <th>std</th>\n",
       "      <td>18231.825285</td>\n",
       "      <td>5.338317e+18</td>\n",
       "      <td>461.268841</td>\n",
       "      <td>0.601254</td>\n",
       "      <td>0.432013</td>\n",
       "      <td>0.383541</td>\n",
       "      <td>0.489961</td>\n",
       "      <td>0.454553</td>\n",
       "      <td>0.325547</td>\n",
       "      <td>0.448235</td>\n",
       "      <td>0.340466</td>\n",
       "      <td>0.148848</td>\n",
       "      <td>0.299724</td>\n",
       "      <td>0.472368</td>\n",
       "      <td>0.218326</td>\n",
       "      <td>0.193581</td>\n",
       "      <td>0.027374</td>\n",
       "      <td>0.030366</td>\n",
       "      <td>0.408107</td>\n",
       "    </tr>\n",
       "    <tr>\n",
       "      <th>min</th>\n",
       "      <td>1.000000</td>\n",
       "      <td>5.786926e+13</td>\n",
       "      <td>500.000000</td>\n",
       "      <td>0.000000</td>\n",
       "      <td>0.000000</td>\n",
       "      <td>0.000000</td>\n",
       "      <td>0.000000</td>\n",
       "      <td>0.000000</td>\n",
       "      <td>0.000000</td>\n",
       "      <td>0.000000</td>\n",
       "      <td>0.000000</td>\n",
       "      <td>0.000000</td>\n",
       "      <td>0.000000</td>\n",
       "      <td>0.000000</td>\n",
       "      <td>0.000000</td>\n",
       "      <td>0.000000</td>\n",
       "      <td>0.000000</td>\n",
       "      <td>0.000000</td>\n",
       "      <td>0.000000</td>\n",
       "    </tr>\n",
       "    <tr>\n",
       "      <th>25%</th>\n",
       "      <td>33244.000000</td>\n",
       "      <td>4.602787e+18</td>\n",
       "      <td>500.000000</td>\n",
       "      <td>3.933333</td>\n",
       "      <td>1.000000</td>\n",
       "      <td>1.000000</td>\n",
       "      <td>0.000000</td>\n",
       "      <td>0.000000</td>\n",
       "      <td>1.000000</td>\n",
       "      <td>0.000000</td>\n",
       "      <td>1.000000</td>\n",
       "      <td>0.000000</td>\n",
       "      <td>0.000000</td>\n",
       "      <td>0.000000</td>\n",
       "      <td>0.000000</td>\n",
       "      <td>0.000000</td>\n",
       "      <td>0.000000</td>\n",
       "      <td>0.000000</td>\n",
       "      <td>0.000000</td>\n",
       "    </tr>\n",
       "    <tr>\n",
       "      <th>50%</th>\n",
       "      <td>47492.000000</td>\n",
       "      <td>9.183887e+18</td>\n",
       "      <td>500.000000</td>\n",
       "      <td>4.187500</td>\n",
       "      <td>1.000000</td>\n",
       "      <td>1.000000</td>\n",
       "      <td>1.000000</td>\n",
       "      <td>1.000000</td>\n",
       "      <td>1.000000</td>\n",
       "      <td>1.000000</td>\n",
       "      <td>1.000000</td>\n",
       "      <td>0.000000</td>\n",
       "      <td>0.000000</td>\n",
       "      <td>0.000000</td>\n",
       "      <td>0.000000</td>\n",
       "      <td>0.000000</td>\n",
       "      <td>0.000000</td>\n",
       "      <td>0.000000</td>\n",
       "      <td>0.000000</td>\n",
       "    </tr>\n",
       "    <tr>\n",
       "      <th>75%</th>\n",
       "      <td>57947.000000</td>\n",
       "      <td>1.381042e+19</td>\n",
       "      <td>1000.000000</td>\n",
       "      <td>4.513138</td>\n",
       "      <td>1.000000</td>\n",
       "      <td>1.000000</td>\n",
       "      <td>1.000000</td>\n",
       "      <td>1.000000</td>\n",
       "      <td>1.000000</td>\n",
       "      <td>1.000000</td>\n",
       "      <td>1.000000</td>\n",
       "      <td>0.000000</td>\n",
       "      <td>0.000000</td>\n",
       "      <td>1.000000</td>\n",
       "      <td>0.000000</td>\n",
       "      <td>0.000000</td>\n",
       "      <td>0.000000</td>\n",
       "      <td>0.000000</td>\n",
       "      <td>0.000000</td>\n",
       "    </tr>\n",
       "    <tr>\n",
       "      <th>max</th>\n",
       "      <td>68332.000000</td>\n",
       "      <td>1.844028e+19</td>\n",
       "      <td>2500.000000</td>\n",
       "      <td>5.000000</td>\n",
       "      <td>1.000000</td>\n",
       "      <td>1.000000</td>\n",
       "      <td>1.000000</td>\n",
       "      <td>1.000000</td>\n",
       "      <td>1.000000</td>\n",
       "      <td>1.000000</td>\n",
       "      <td>1.000000</td>\n",
       "      <td>1.000000</td>\n",
       "      <td>1.000000</td>\n",
       "      <td>1.000000</td>\n",
       "      <td>1.000000</td>\n",
       "      <td>1.000000</td>\n",
       "      <td>1.000000</td>\n",
       "      <td>1.000000</td>\n",
       "      <td>1.000000</td>\n",
       "    </tr>\n",
       "  </tbody>\n",
       "</table>\n",
       "</div>"
      ],
      "text/plain": [
       "         Unnamed: 0        org_id  average_bill        rating  coffee_to_go  \\\n",
       "count  17337.000000  1.733700e+04  17337.000000  17337.000000  17337.000000   \n",
       "mean   43530.963662  9.209979e+18    750.072100      4.140882      0.751745   \n",
       "std    18231.825285  5.338317e+18    461.268841      0.601254      0.432013   \n",
       "min        1.000000  5.786926e+13    500.000000      0.000000      0.000000   \n",
       "25%    33244.000000  4.602787e+18    500.000000      3.933333      1.000000   \n",
       "50%    47492.000000  9.183887e+18    500.000000      4.187500      1.000000   \n",
       "75%    57947.000000  1.381042e+19   1000.000000      4.513138      1.000000   \n",
       "max    68332.000000  1.844028e+19   2500.000000      5.000000      1.000000   \n",
       "\n",
       "       food_delivery     breakfast  summer_terrace         wi_fi  \\\n",
       "count   17337.000000  17337.000000    17337.000000  17337.000000   \n",
       "mean        0.820788      0.599758        0.708312      0.879506   \n",
       "std         0.383541      0.489961        0.454553      0.325547   \n",
       "min         0.000000      0.000000        0.000000      0.000000   \n",
       "25%         1.000000      0.000000        0.000000      1.000000   \n",
       "50%         1.000000      1.000000        1.000000      1.000000   \n",
       "75%         1.000000      1.000000        1.000000      1.000000   \n",
       "max         1.000000      1.000000        1.000000      1.000000   \n",
       "\n",
       "       business_lunch  payment_by_credit_card      car_park  gift_certificate  \\\n",
       "count    17337.000000            17337.000000  17337.000000      17337.000000   \n",
       "mean         0.721578                0.866182      0.022668          0.099787   \n",
       "std          0.448235                0.340466      0.148848          0.299724   \n",
       "min          0.000000                0.000000      0.000000          0.000000   \n",
       "25%          0.000000                1.000000      0.000000          0.000000   \n",
       "50%          1.000000                1.000000      0.000000          0.000000   \n",
       "75%          1.000000                1.000000      0.000000          0.000000   \n",
       "max          1.000000                1.000000      1.000000          1.000000   \n",
       "\n",
       "            karaoke  free_delivery         music          pets  \\\n",
       "count  17337.000000   17337.000000  17337.000000  17337.000000   \n",
       "mean       0.336044       0.050182      0.038992      0.000750   \n",
       "std        0.472368       0.218326      0.193581      0.027374   \n",
       "min        0.000000       0.000000      0.000000      0.000000   \n",
       "25%        0.000000       0.000000      0.000000      0.000000   \n",
       "50%        0.000000       0.000000      0.000000      0.000000   \n",
       "75%        1.000000       0.000000      0.000000      0.000000   \n",
       "max        1.000000       1.000000      1.000000      1.000000   \n",
       "\n",
       "       air_conditioning  view_on_ostankino_tower  \n",
       "count      17337.000000             17337.000000  \n",
       "mean           0.000923                 0.211109  \n",
       "std            0.030366                 0.408107  \n",
       "min            0.000000                 0.000000  \n",
       "25%            0.000000                 0.000000  \n",
       "50%            0.000000                 0.000000  \n",
       "75%            0.000000                 0.000000  \n",
       "max            1.000000                 1.000000  "
      ]
     },
     "execution_count": 19,
     "metadata": {},
     "output_type": "execute_result"
    }
   ],
   "source": [
    "df.describe()"
   ]
  },
  {
   "cell_type": "code",
   "execution_count": 20,
   "id": "ee0fedbe",
   "metadata": {},
   "outputs": [
    {
     "name": "stdout",
     "output_type": "stream",
     "text": [
      "Средний рейтинг заведений: 4.14/5\n"
     ]
    }
   ],
   "source": [
    "print(f'Средний рейтинг заведений: {round(df.describe().loc[\"mean\", \"rating\"], 2)}/5')"
   ]
  },
  {
   "cell_type": "code",
   "execution_count": 21,
   "id": "8ad7bd73",
   "metadata": {},
   "outputs": [
    {
     "name": "stdout",
     "output_type": "stream",
     "text": [
      "Доля заведений, имеющих wifi: 88.0%\n",
      "Их количество: 15248\n"
     ]
    }
   ],
   "source": [
    "print(f'Доля заведений, имеющих wifi: {round(df.describe().loc[\"mean\", \"wi_fi\"], 2) * 100}%')\n",
    "print(f'Их количество: {len(df[df[\"wi_fi\"] == 1])}')"
   ]
  },
  {
   "cell_type": "code",
   "execution_count": 22,
   "id": "2f2504bd",
   "metadata": {},
   "outputs": [
    {
     "name": "stdout",
     "output_type": "stream",
     "text": [
      "Доля заведений, где разрешены питомцы: 0.075%\n",
      "Их количество: 13\n"
     ]
    }
   ],
   "source": [
    "print(f'Доля заведений, где разрешены питомцы: {round(df.describe().loc[\"mean\", \"pets\"], 6) * 100}%')\n",
    "print(f'Их количество: {len(df[df[\"pets\"] == 1])}')"
   ]
  },
  {
   "cell_type": "markdown",
   "id": "bffc3932",
   "metadata": {},
   "source": [
    "# Заведения Питера"
   ]
  },
  {
   "cell_type": "code",
   "execution_count": 23,
   "id": "3b8f21ed",
   "metadata": {},
   "outputs": [],
   "source": [
    "piter_df = df[df['city'] == 'spb']"
   ]
  },
  {
   "cell_type": "code",
   "execution_count": 24,
   "id": "23fdf9ca",
   "metadata": {},
   "outputs": [],
   "source": [
    "average_bill_all = df[df['rubric'] == 'Ресторан']['average_bill'].mean()\n",
    "average_bill_piter = piter_df[piter_df['rubric'] == 'Ресторан']['average_bill'].mean()"
   ]
  },
  {
   "cell_type": "code",
   "execution_count": 25,
   "id": "4e770e2c",
   "metadata": {},
   "outputs": [
    {
     "name": "stdout",
     "output_type": "stream",
     "text": [
      "Средний чек уменьшился на 157.64 рублей\n"
     ]
    }
   ],
   "source": [
    "print(f'Средний чек уменьшился на {round(average_bill_all - average_bill_piter, 2)} рублей')"
   ]
  },
  {
   "cell_type": "code",
   "execution_count": 26,
   "id": "d4703dc5",
   "metadata": {},
   "outputs": [],
   "source": [
    "food_delivery_all = df.groupby('rubric', as_index=False)['food_delivery'].mean().sort_values(by='food_delivery').rename(columns={'food_delivery': 'all_delivery'})\n",
    "food_delivery_piter = piter_df.groupby('rubric', as_index=False)['food_delivery'].mean().sort_values(by='food_delivery').rename(columns={'food_delivery': 'piter_delivery'})"
   ]
  },
  {
   "cell_type": "code",
   "execution_count": 38,
   "id": "445b9953",
   "metadata": {},
   "outputs": [
    {
     "data": {
      "text/html": [
       "<div>\n",
       "<style scoped>\n",
       "    .dataframe tbody tr th:only-of-type {\n",
       "        vertical-align: middle;\n",
       "    }\n",
       "\n",
       "    .dataframe tbody tr th {\n",
       "        vertical-align: top;\n",
       "    }\n",
       "\n",
       "    .dataframe thead th {\n",
       "        text-align: right;\n",
       "    }\n",
       "</style>\n",
       "<table border=\"1\" class=\"dataframe\">\n",
       "  <thead>\n",
       "    <tr style=\"text-align: right;\">\n",
       "      <th></th>\n",
       "      <th>rubric</th>\n",
       "      <th>all_delivery</th>\n",
       "      <th>piter_delivery</th>\n",
       "    </tr>\n",
       "  </thead>\n",
       "  <tbody>\n",
       "    <tr>\n",
       "      <th>0</th>\n",
       "      <td>Кондитерская</td>\n",
       "      <td>0.289720</td>\n",
       "      <td>0.386667</td>\n",
       "    </tr>\n",
       "    <tr>\n",
       "      <th>1</th>\n",
       "      <td>Бар безалкогольных напитков</td>\n",
       "      <td>0.454545</td>\n",
       "      <td>0.500000</td>\n",
       "    </tr>\n",
       "    <tr>\n",
       "      <th>2</th>\n",
       "      <td>Кофе с собой</td>\n",
       "      <td>0.539568</td>\n",
       "      <td>0.560976</td>\n",
       "    </tr>\n",
       "    <tr>\n",
       "      <th>3</th>\n",
       "      <td>Булочная, пекарня</td>\n",
       "      <td>0.621253</td>\n",
       "      <td>0.578947</td>\n",
       "    </tr>\n",
       "    <tr>\n",
       "      <th>4</th>\n",
       "      <td>Столовая</td>\n",
       "      <td>0.639437</td>\n",
       "      <td>0.641694</td>\n",
       "    </tr>\n",
       "    <tr>\n",
       "      <th>5</th>\n",
       "      <td>Кофейня</td>\n",
       "      <td>0.659786</td>\n",
       "      <td>0.656753</td>\n",
       "    </tr>\n",
       "    <tr>\n",
       "      <th>6</th>\n",
       "      <td>Быстрое питание</td>\n",
       "      <td>0.773448</td>\n",
       "      <td>0.765550</td>\n",
       "    </tr>\n",
       "    <tr>\n",
       "      <th>7</th>\n",
       "      <td>Кальян-бар</td>\n",
       "      <td>0.857471</td>\n",
       "      <td>0.836207</td>\n",
       "    </tr>\n",
       "    <tr>\n",
       "      <th>8</th>\n",
       "      <td>Кафе</td>\n",
       "      <td>0.863740</td>\n",
       "      <td>0.851904</td>\n",
       "    </tr>\n",
       "    <tr>\n",
       "      <th>9</th>\n",
       "      <td>Спортбар</td>\n",
       "      <td>0.878788</td>\n",
       "      <td>1.000000</td>\n",
       "    </tr>\n",
       "    <tr>\n",
       "      <th>10</th>\n",
       "      <td>Бар, паб</td>\n",
       "      <td>0.900000</td>\n",
       "      <td>0.899536</td>\n",
       "    </tr>\n",
       "    <tr>\n",
       "      <th>11</th>\n",
       "      <td>Ресторан</td>\n",
       "      <td>0.926566</td>\n",
       "      <td>0.930759</td>\n",
       "    </tr>\n",
       "    <tr>\n",
       "      <th>12</th>\n",
       "      <td>Пиццерия</td>\n",
       "      <td>0.949568</td>\n",
       "      <td>0.960000</td>\n",
       "    </tr>\n",
       "    <tr>\n",
       "      <th>13</th>\n",
       "      <td>Суши-бар</td>\n",
       "      <td>0.953545</td>\n",
       "      <td>0.953125</td>\n",
       "    </tr>\n",
       "  </tbody>\n",
       "</table>\n",
       "</div>"
      ],
      "text/plain": [
       "                         rubric  all_delivery  piter_delivery\n",
       "0                  Кондитерская      0.289720        0.386667\n",
       "1   Бар безалкогольных напитков      0.454545        0.500000\n",
       "2                  Кофе с собой      0.539568        0.560976\n",
       "3             Булочная, пекарня      0.621253        0.578947\n",
       "4                      Столовая      0.639437        0.641694\n",
       "5                       Кофейня      0.659786        0.656753\n",
       "6               Быстрое питание      0.773448        0.765550\n",
       "7                    Кальян-бар      0.857471        0.836207\n",
       "8                          Кафе      0.863740        0.851904\n",
       "9                      Спортбар      0.878788        1.000000\n",
       "10                     Бар, паб      0.900000        0.899536\n",
       "11                     Ресторан      0.926566        0.930759\n",
       "12                     Пиццерия      0.949568        0.960000\n",
       "13                     Суши-бар      0.953545        0.953125"
      ]
     },
     "execution_count": 38,
     "metadata": {},
     "output_type": "execute_result"
    }
   ],
   "source": [
    "food_delivery_all.merge(food_delivery_piter)"
   ]
  },
  {
   "cell_type": "markdown",
   "id": "b29d4567",
   "metadata": {},
   "source": [
    "1) Все спортбары Питера имеют доставку в то время, как 87% спортбаров Москвы и Питера имеют доставку\n",
    "\n",
    "2) Значительно изменился процент кондитерских, которые имеют доставку"
   ]
  },
  {
   "cell_type": "code",
   "execution_count": 69,
   "id": "b5de561a",
   "metadata": {},
   "outputs": [],
   "source": [
    "proportion_piter = (piter_df.groupby('rubric').size() / len(piter_df)).sort_values().to_frame().reset_index().rename(columns={0: 'piter'})\n",
    "proportion_all = (df.groupby('rubric').size() / len(df)).sort_values().to_frame().reset_index().rename(columns={0: 'all'})"
   ]
  },
  {
   "cell_type": "code",
   "execution_count": 75,
   "id": "3a9cc458",
   "metadata": {},
   "outputs": [
    {
     "data": {
      "text/html": [
       "<div>\n",
       "<style scoped>\n",
       "    .dataframe tbody tr th:only-of-type {\n",
       "        vertical-align: middle;\n",
       "    }\n",
       "\n",
       "    .dataframe tbody tr th {\n",
       "        vertical-align: top;\n",
       "    }\n",
       "\n",
       "    .dataframe thead th {\n",
       "        text-align: right;\n",
       "    }\n",
       "</style>\n",
       "<table border=\"1\" class=\"dataframe\">\n",
       "  <thead>\n",
       "    <tr style=\"text-align: right;\">\n",
       "      <th></th>\n",
       "      <th>rubric</th>\n",
       "      <th>all</th>\n",
       "      <th>piter</th>\n",
       "      <th>piter/all</th>\n",
       "    </tr>\n",
       "  </thead>\n",
       "  <tbody>\n",
       "    <tr>\n",
       "      <th>1</th>\n",
       "      <td>Спортбар</td>\n",
       "      <td>0.001903</td>\n",
       "      <td>0.000798</td>\n",
       "      <td>0.419485</td>\n",
       "    </tr>\n",
       "    <tr>\n",
       "      <th>0</th>\n",
       "      <td>Бар безалкогольных напитков</td>\n",
       "      <td>0.000634</td>\n",
       "      <td>0.000319</td>\n",
       "      <td>0.503383</td>\n",
       "    </tr>\n",
       "    <tr>\n",
       "      <th>7</th>\n",
       "      <td>Пиццерия</td>\n",
       "      <td>0.040030</td>\n",
       "      <td>0.023954</td>\n",
       "      <td>0.598402</td>\n",
       "    </tr>\n",
       "    <tr>\n",
       "      <th>6</th>\n",
       "      <td>Кальян-бар</td>\n",
       "      <td>0.025091</td>\n",
       "      <td>0.018524</td>\n",
       "      <td>0.738294</td>\n",
       "    </tr>\n",
       "    <tr>\n",
       "      <th>2</th>\n",
       "      <td>Кофе с собой</td>\n",
       "      <td>0.008018</td>\n",
       "      <td>0.006547</td>\n",
       "      <td>0.816639</td>\n",
       "    </tr>\n",
       "    <tr>\n",
       "      <th>5</th>\n",
       "      <td>Суши-бар</td>\n",
       "      <td>0.023591</td>\n",
       "      <td>0.020441</td>\n",
       "      <td>0.866458</td>\n",
       "    </tr>\n",
       "    <tr>\n",
       "      <th>11</th>\n",
       "      <td>Кофейня</td>\n",
       "      <td>0.145296</td>\n",
       "      <td>0.128873</td>\n",
       "      <td>0.886965</td>\n",
       "    </tr>\n",
       "    <tr>\n",
       "      <th>3</th>\n",
       "      <td>Кондитерская</td>\n",
       "      <td>0.012344</td>\n",
       "      <td>0.011977</td>\n",
       "      <td>0.970305</td>\n",
       "    </tr>\n",
       "    <tr>\n",
       "      <th>10</th>\n",
       "      <td>Быстрое питание</td>\n",
       "      <td>0.134683</td>\n",
       "      <td>0.133504</td>\n",
       "      <td>0.991243</td>\n",
       "    </tr>\n",
       "    <tr>\n",
       "      <th>12</th>\n",
       "      <td>Кафе</td>\n",
       "      <td>0.227317</td>\n",
       "      <td>0.226445</td>\n",
       "      <td>0.996164</td>\n",
       "    </tr>\n",
       "    <tr>\n",
       "      <th>13</th>\n",
       "      <td>Ресторан</td>\n",
       "      <td>0.230144</td>\n",
       "      <td>0.239859</td>\n",
       "      <td>1.042216</td>\n",
       "    </tr>\n",
       "    <tr>\n",
       "      <th>9</th>\n",
       "      <td>Бар, паб</td>\n",
       "      <td>0.088827</td>\n",
       "      <td>0.103322</td>\n",
       "      <td>1.163173</td>\n",
       "    </tr>\n",
       "    <tr>\n",
       "      <th>8</th>\n",
       "      <td>Столовая</td>\n",
       "      <td>0.040953</td>\n",
       "      <td>0.049026</td>\n",
       "      <td>1.197129</td>\n",
       "    </tr>\n",
       "    <tr>\n",
       "      <th>4</th>\n",
       "      <td>Булочная, пекарня</td>\n",
       "      <td>0.021169</td>\n",
       "      <td>0.036410</td>\n",
       "      <td>1.720005</td>\n",
       "    </tr>\n",
       "  </tbody>\n",
       "</table>\n",
       "</div>"
      ],
      "text/plain": [
       "                         rubric       all     piter  piter/all\n",
       "1                      Спортбар  0.001903  0.000798   0.419485\n",
       "0   Бар безалкогольных напитков  0.000634  0.000319   0.503383\n",
       "7                      Пиццерия  0.040030  0.023954   0.598402\n",
       "6                    Кальян-бар  0.025091  0.018524   0.738294\n",
       "2                  Кофе с собой  0.008018  0.006547   0.816639\n",
       "5                      Суши-бар  0.023591  0.020441   0.866458\n",
       "11                      Кофейня  0.145296  0.128873   0.886965\n",
       "3                  Кондитерская  0.012344  0.011977   0.970305\n",
       "10              Быстрое питание  0.134683  0.133504   0.991243\n",
       "12                         Кафе  0.227317  0.226445   0.996164\n",
       "13                     Ресторан  0.230144  0.239859   1.042216\n",
       "9                      Бар, паб  0.088827  0.103322   1.163173\n",
       "8                      Столовая  0.040953  0.049026   1.197129\n",
       "4             Булочная, пекарня  0.021169  0.036410   1.720005"
      ]
     },
     "execution_count": 75,
     "metadata": {},
     "output_type": "execute_result"
    }
   ],
   "source": [
    "proportion_all_piter = proportion_all.merge(proportion_piter)\n",
    "proportion_all_piter['piter/all'] = proportion_all_piter['piter'] / proportion_all_piter['all']\n",
    "proportion_all_piter.sort_values(by='piter/all')"
   ]
  },
  {
   "cell_type": "markdown",
   "id": "ed14c01a",
   "metadata": {},
   "source": [
    "1) Процент булочных изменился в 1.72 раза\n",
    "\n",
    "2) Процент спортбаров изменился в 0.42 раза\n",
    "\n",
    "3) Процент кондитерских, заведений быстрого питания, кафе и ресторанов практически не изменился"
   ]
  },
  {
   "cell_type": "code",
   "execution_count": null,
   "id": "e9b637d8",
   "metadata": {},
   "outputs": [],
   "source": []
  }
 ],
 "metadata": {
  "kernelspec": {
   "display_name": "Python 3 (ipykernel)",
   "language": "python",
   "name": "python3"
  },
  "language_info": {
   "codemirror_mode": {
    "name": "ipython",
    "version": 3
   },
   "file_extension": ".py",
   "mimetype": "text/x-python",
   "name": "python",
   "nbconvert_exporter": "python",
   "pygments_lexer": "ipython3",
   "version": "3.9.9"
  }
 },
 "nbformat": 4,
 "nbformat_minor": 5
}
